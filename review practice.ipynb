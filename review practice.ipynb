{
 "cells": [
  {
   "cell_type": "code",
   "execution_count": null,
   "metadata": {},
   "outputs": [],
   "source": [
    "#objective:\n",
    "#Data structures___Strings\n",
    "#what is string?\n",
    "#how declare a string?\n",
    "#few methods in a string?\n",
    "#Example programme on strings?\n",
    "    #to find no of uppercase and no of lower case,digits,words,lines,length of string\n",
    "#Example programme for lowercase letters to uppercase and upeercase to lowercase using strings method"
   ]
  },
  {
   "cell_type": "code",
   "execution_count": null,
   "metadata": {},
   "outputs": [],
   "source": [
    "string is a collection data enclosed by single or double quotes\n",
    "python not having charector datatype,its consider as a string\n",
    "strings delcared in \"\",''\n",
    "multiline string   \"\"\"\"\"\",''''''\n"
   ]
  },
  {
   "cell_type": "code",
   "execution_count": 1,
   "metadata": {},
   "outputs": [
    {
     "data": {
      "text/plain": [
       "['__add__',\n",
       " '__class__',\n",
       " '__contains__',\n",
       " '__delattr__',\n",
       " '__dir__',\n",
       " '__doc__',\n",
       " '__eq__',\n",
       " '__format__',\n",
       " '__ge__',\n",
       " '__getattribute__',\n",
       " '__getitem__',\n",
       " '__getnewargs__',\n",
       " '__gt__',\n",
       " '__hash__',\n",
       " '__init__',\n",
       " '__init_subclass__',\n",
       " '__iter__',\n",
       " '__le__',\n",
       " '__len__',\n",
       " '__lt__',\n",
       " '__mod__',\n",
       " '__mul__',\n",
       " '__ne__',\n",
       " '__new__',\n",
       " '__reduce__',\n",
       " '__reduce_ex__',\n",
       " '__repr__',\n",
       " '__rmod__',\n",
       " '__rmul__',\n",
       " '__setattr__',\n",
       " '__sizeof__',\n",
       " '__str__',\n",
       " '__subclasshook__',\n",
       " 'capitalize',\n",
       " 'casefold',\n",
       " 'center',\n",
       " 'count',\n",
       " 'encode',\n",
       " 'endswith',\n",
       " 'expandtabs',\n",
       " 'find',\n",
       " 'format',\n",
       " 'format_map',\n",
       " 'index',\n",
       " 'isalnum',\n",
       " 'isalpha',\n",
       " 'isascii',\n",
       " 'isdecimal',\n",
       " 'isdigit',\n",
       " 'isidentifier',\n",
       " 'islower',\n",
       " 'isnumeric',\n",
       " 'isprintable',\n",
       " 'isspace',\n",
       " 'istitle',\n",
       " 'isupper',\n",
       " 'join',\n",
       " 'ljust',\n",
       " 'lower',\n",
       " 'lstrip',\n",
       " 'maketrans',\n",
       " 'partition',\n",
       " 'replace',\n",
       " 'rfind',\n",
       " 'rindex',\n",
       " 'rjust',\n",
       " 'rpartition',\n",
       " 'rsplit',\n",
       " 'rstrip',\n",
       " 'split',\n",
       " 'splitlines',\n",
       " 'startswith',\n",
       " 'strip',\n",
       " 'swapcase',\n",
       " 'title',\n",
       " 'translate',\n",
       " 'upper',\n",
       " 'zfill']"
      ]
     },
     "execution_count": 1,
     "metadata": {},
     "output_type": "execute_result"
    }
   ],
   "source": [
    "dir(str)"
   ]
  },
  {
   "cell_type": "code",
   "execution_count": 22,
   "metadata": {},
   "outputs": [
    {
     "name": "stdout",
     "output_type": "stream",
     "text": [
      "lines 3\n",
      "sum of digits 126\n",
      "{'h': 10, 'e': 4, 'l': 2, 'o': 4, ' ': 13, 'W': 3, 'E': 3, 'L': 3, 'c': 3, 'm': 4, '4': 6, '3': 5, '2': 4, '5': 7, 'D': 3, 'J': 3, 'j': 5, 's': 1, 'n': 4, 'f': 3, 'g': 13, 'w': 1, '7': 1, '8': 2, 'b': 2, 'd': 4, 'k': 2, 'G': 2, 'K': 2, 'F': 1, 'H': 4, 'B': 1, '\\n': 2, '6': 2, '9': 1, '0': 1, '&': 2, '*': 2, '@': 1, '#': 1, '%': 1}\n",
      "words 15\n",
      "lower 25\n",
      "upper 62\n",
      "digits 29\n",
      "special 22\n"
     ]
    }
   ],
   "source": [
    "a=\"\"\"hello WELcome4325 DJDhjsnjhfnmg gngw74835bg fdjkfghdjg dngb GJKDFGHJKB hjk hgdhghg\n",
    "54686950 2345&*&* \n",
    "gh@#% ggh WELcome4325 WELcome4325HHH\"\"\"\n",
    "lw=0\n",
    "up=0\n",
    "dig=0\n",
    "spcl = 0\n",
    "words=0\n",
    "lines=0\n",
    "l = []\n",
    "for i in a:\n",
    "    if i.isupper():\n",
    "        lw+=1\n",
    "    elif i.islower():\n",
    "        up+=1\n",
    "    elif i.isdigit():\n",
    "        dig+=1\n",
    "        l.append(int(i))\n",
    "    else:\n",
    "        #print(i)\n",
    "        spcl+=1\n",
    "        \n",
    "freq={}\n",
    "c=a.splitlines()\n",
    "for h in a.split():\n",
    "    words=words+1\n",
    "for j in a:\n",
    "    if j in freq:\n",
    "        freq[j]+=1\n",
    "    else:\n",
    "        freq[j]=1\n",
    "print(\"lines\",len(c))\n",
    "print(\"sum of digits\",sum(l))\n",
    "print(str(freq))\n",
    "print(\"words\",words)\n",
    "print(\"lower\",lw)\n",
    "print(\"upper\",up)\n",
    "print(\"digits\",dig)\n",
    "print(\"special\",spcl)      "
   ]
  },
  {
   "cell_type": "code",
   "execution_count": 24,
   "metadata": {},
   "outputs": [
    {
     "data": {
      "text/plain": [
       "'ashfdm'"
      ]
     },
     "execution_count": 24,
     "metadata": {},
     "output_type": "execute_result"
    }
   ],
   "source": [
    "m=\"ASHFdm\"\n",
    "m.casefold()\n"
   ]
  },
  {
   "cell_type": "code",
   "execution_count": 28,
   "metadata": {},
   "outputs": [
    {
     "data": {
      "text/plain": [
       "True"
      ]
     },
     "execution_count": 28,
     "metadata": {},
     "output_type": "execute_result"
    }
   ],
   "source": [
    "m=\"abc_\"\n",
    "m.isidentifier()"
   ]
  },
  {
   "cell_type": "code",
   "execution_count": 18,
   "metadata": {},
   "outputs": [
    {
     "data": {
      "text/plain": [
       "'how are you venkatesh'"
      ]
     },
     "execution_count": 18,
     "metadata": {},
     "output_type": "execute_result"
    }
   ],
   "source": [
    "c=\"hello venkatesh\"\n",
    "b= c.replace(\"hello\",\"how are you\")\n",
    "b"
   ]
  },
  {
   "cell_type": "code",
   "execution_count": 20,
   "metadata": {},
   "outputs": [
    {
     "data": {
      "text/plain": [
       "'5'"
      ]
     },
     "execution_count": 20,
     "metadata": {},
     "output_type": "execute_result"
    }
   ],
   "source": [
    "a\n"
   ]
  },
  {
   "cell_type": "code",
   "execution_count": 23,
   "metadata": {},
   "outputs": [
    {
     "data": {
      "text/plain": [
       "'hello WELcome4325 DJDhjsnjhfnmg gngw74835bg fdjkfghdjg dngb GJKDFGHJKB hjk hgdhghg\\n54686950 2345&*&* \\ngh@#% ggh WELcome4325 WELcome4325HHH'"
      ]
     },
     "execution_count": 23,
     "metadata": {},
     "output_type": "execute_result"
    }
   ],
   "source": [
    "a"
   ]
  },
  {
   "cell_type": "code",
   "execution_count": 24,
   "metadata": {},
   "outputs": [
    {
     "name": "stdout",
     "output_type": "stream",
     "text": [
      "hello iiit nuziveedu count 345\n"
     ]
    }
   ],
   "source": [
    "print(\"hello iiit nuziveedu count {}\".format(345))"
   ]
  },
  {
   "cell_type": "code",
   "execution_count": 32,
   "metadata": {},
   "outputs": [
    {
     "data": {
      "text/plain": [
       "True"
      ]
     },
     "execution_count": 32,
     "metadata": {},
     "output_type": "execute_result"
    }
   ],
   "source": [
    "m=\" \"\n",
    "m.isspace()"
   ]
  },
  {
   "cell_type": "code",
   "execution_count": null,
   "metadata": {},
   "outputs": [],
   "source": []
  }
 ],
 "metadata": {
  "kernelspec": {
   "display_name": "Python 3",
   "language": "python",
   "name": "python3"
  },
  "language_info": {
   "codemirror_mode": {
    "name": "ipython",
    "version": 3
   },
   "file_extension": ".py",
   "mimetype": "text/x-python",
   "name": "python",
   "nbconvert_exporter": "python",
   "pygments_lexer": "ipython3",
   "version": "3.7.3"
  }
 },
 "nbformat": 4,
 "nbformat_minor": 2
}
