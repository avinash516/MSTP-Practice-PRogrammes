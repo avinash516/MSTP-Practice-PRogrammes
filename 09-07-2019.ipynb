{
 "cells": [
  {
   "cell_type": "code",
   "execution_count": 1,
   "metadata": {},
   "outputs": [
    {
     "name": "stdout",
     "output_type": "stream",
     "text": [
      "3\n",
      "http://avi.com\n",
      "http://hari.in\n",
      "http://siva.com\n",
      "com\n"
     ]
    }
   ],
   "source": [
    "#urls hackerearth problem\n",
    "\n",
    "n=int(input())\n",
    "d={}\n",
    "for i in range(n):\n",
    "    url=input().split('.')\n",
    "    domain=url[-1]\n",
    "    if domain not in d:\n",
    "        d[domain]=1\n",
    "    else:\n",
    "        d[domain]+=1\n",
    "m=max(d.values())\n",
    "for i in d.items():\n",
    "    if i[1]==m:\n",
    "        print(i[0])\n",
    "        \n"
   ]
  },
  {
   "cell_type": "code",
   "execution_count": null,
   "metadata": {},
   "outputs": [],
   "source": []
  }
 ],
 "metadata": {
  "kernelspec": {
   "display_name": "Python 3",
   "language": "python",
   "name": "python3"
  },
  "language_info": {
   "codemirror_mode": {
    "name": "ipython",
    "version": 3
   },
   "file_extension": ".py",
   "mimetype": "text/x-python",
   "name": "python",
   "nbconvert_exporter": "python",
   "pygments_lexer": "ipython3",
   "version": "3.7.3"
  }
 },
 "nbformat": 4,
 "nbformat_minor": 2
}
